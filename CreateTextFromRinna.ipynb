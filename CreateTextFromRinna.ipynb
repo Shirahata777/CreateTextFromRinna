{
 "cells": [
  {
   "cell_type": "code",
   "execution_count": null,
   "id": "0b1ad274",
   "metadata": {},
   "outputs": [],
   "source": [
    "!pip install transformers\n",
    "!pip install sentencepiece\n",
    "!pip3 install torch torchvision torchaudio"
   ]
  },
  {
   "cell_type": "code",
   "execution_count": null,
   "id": "5225dbf7",
   "metadata": {},
   "outputs": [],
   "source": [
    "from transformers import T5Tokenizer, AutoModelForCausalLM\n",
    "\n",
    "# トークナイザーとモデルの準備\n",
    "tokenizer = T5Tokenizer.from_pretrained(\"rinna/japanese-gpt2-medium\")\n",
    "model = AutoModelForCausalLM.from_pretrained(\"rinna/japanese-gpt2-medium\")\n",
    "\n",
    "# 推論\n",
    "input = tokenizer.encode(\"昔々あるところに\", return_tensors=\"pt\")\n",
    "output = model.generate(input, do_sample=True, max_length=100, num_return_sequences=3)\n",
    "print(tokenizer.batch_decode(output))"
   ]
  },
  {
   "cell_type": "code",
   "execution_count": null,
   "id": "f06310a5",
   "metadata": {},
   "outputs": [],
   "source": [
    "print(tokenizer.batch_decode(output)[-1])"
   ]
  }
 ],
 "metadata": {
  "kernelspec": {
   "display_name": "Python 3",
   "language": "python",
   "name": "python3"
  },
  "language_info": {
   "codemirror_mode": {
    "name": "ipython",
    "version": 3
   },
   "file_extension": ".py",
   "mimetype": "text/x-python",
   "name": "python",
   "nbconvert_exporter": "python",
   "pygments_lexer": "ipython3",
   "version": "3.8.6"
  }
 },
 "nbformat": 4,
 "nbformat_minor": 5
}
